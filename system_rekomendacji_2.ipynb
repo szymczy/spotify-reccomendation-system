{
 "cells": [
  {
   "cell_type": "code",
   "execution_count": 1,
   "id": "e5555fdf",
   "metadata": {},
   "outputs": [],
   "source": [
    "import spotipy\n",
    "from spotipy.oauth2 import SpotifyClientCredentials\n",
    "import spotipy.util as util\n",
    "import numpy as np\n",
    "import pandas as pd\n",
    "import matplotlib.pyplot as plt"
   ]
  },
  {
   "cell_type": "code",
   "execution_count": 2,
   "id": "320f0a9a",
   "metadata": {},
   "outputs": [],
   "source": [
    "client_id = '5db2e8ab2c2f410aad2c6e6487f8d7c1'\n",
    "client_secret = '573c27517ec44400930e963278cab876'\n",
    "username = 'sycyska'\n",
    "redirect_uri = 'http://localhost:9000'"
   ]
  },
  {
   "cell_type": "code",
   "execution_count": 3,
   "id": "61734c9d",
   "metadata": {},
   "outputs": [],
   "source": [
    "scope = 'user-library-read playlist-modify-public playlist-read-private'\n",
    "\n",
    "client_credentials_manager = SpotifyClientCredentials(client_id = client_id, client_secret = client_secret)\n",
    "\n",
    "sp = spotipy.Spotify(client_credentials_manager = client_credentials_manager) \n",
    "\n",
    "token = util.prompt_for_user_token(username,scope,client_id,client_secret,redirect_uri)\n",
    "\n",
    "if token:\n",
    "    sp = spotipy.Spotify(auth=token)\n",
    "else:\n",
    "    print(\"Can't get token for\", username)"
   ]
  },
  {
   "cell_type": "code",
   "execution_count": 4,
   "id": "6d465a93",
   "metadata": {},
   "outputs": [],
   "source": [
    "sourcePlaylistID = '2fF0cf0ccA0HXWe8DDHJVG' \n",
    "sourcePlaylist = sp.user_playlist(username,sourcePlaylistID);\n",
    "tracks = sourcePlaylist[\"tracks\"];\n",
    "songs = tracks[\"items\"];"
   ]
  },
  {
   "cell_type": "code",
   "execution_count": 5,
   "id": "b3eb8c14",
   "metadata": {},
   "outputs": [],
   "source": [
    "track_ids = []\n",
    "track_names = []\n",
    "\n",
    "for i in range(0, len(songs)):\n",
    "  if songs[i]['track']['id']!=None:\n",
    "    track_ids.append(songs[i]['track']['id'])\n",
    "    track_names.append(songs[i]['track']['name'])\n",
    "    \n",
    "features = []\n",
    "\n",
    "for i in range(0,len(track_ids)):\n",
    "  audio_features  = sp.audio_features(track_ids[i])\n",
    "  for track in audio_features:\n",
    "    features.append(track)\n",
    "    \n",
    "    \n",
    "playlist_df = pd.DataFrame(features,index = track_names)"
   ]
  },
  {
   "cell_type": "code",
   "execution_count": 6,
   "id": "d5790a92",
   "metadata": {},
   "outputs": [],
   "source": [
    "playlist_df = playlist_df[[\"id\", \"acousticness\", \"danceability\", \"duration_ms\", \"energy\", \"instrumentalness\",  \"key\", \"liveness\", \"loudness\", \"mode\", \"speechiness\", \"tempo\", \"valence\"]]"
   ]
  },
  {
   "cell_type": "code",
   "execution_count": null,
   "id": "25e8d5bb",
   "metadata": {},
   "outputs": [],
   "source": [
    "#track_names"
   ]
  },
  {
   "cell_type": "code",
   "execution_count": 7,
   "id": "07a67e0d",
   "metadata": {},
   "outputs": [],
   "source": [
    "playlist_df['ratings'] = [10, 7, 9, 9, 8, 6, 4, 8, 5, 8, 7, 8, 5, 10, 10, 10, 7, 9, 6, 9, 9, 4, 7, 5, 3, 6, 7, 8, 6, 6, 9, 3, 6, 8, 5, 4, 7, 9, 8, 7, 10, 9, 8, 5,\n",
    "7, 2, 5, 4, 9, 5, 4, 3, 10, 8, 7, 3, 8, 6, 5, 4, 3, 6, 4, 7, 6, 8, 4, 3, 6, 6, 8, 9, 8, 9, 7, 6, 6, 4, 9, 7, 8, 4, 3, 6, 5, 3, 6, 5, 3, \n",
    "7, 5, 7, 5, 8, 6, 5, 7, 9]"
   ]
  },
  {
   "cell_type": "code",
   "execution_count": 8,
   "id": "5c08758d",
   "metadata": {},
   "outputs": [],
   "source": [
    "X_train = playlist_df.drop(['id', 'ratings'], axis=1)\n",
    "y_train = playlist_df['ratings']"
   ]
  },
  {
   "cell_type": "code",
   "execution_count": 9,
   "id": "c235331d",
   "metadata": {},
   "outputs": [
    {
     "name": "stderr",
     "output_type": "stream",
     "text": [
      "C:\\Users\\m\\anaconda3\\lib\\site-packages\\scipy\\__init__.py:146: UserWarning: A NumPy version >=1.16.5 and <1.23.0 is required for this version of SciPy (detected version 1.24.3\n",
      "  warnings.warn(f\"A NumPy version >={np_minversion} and <{np_maxversion}\"\n"
     ]
    }
   ],
   "source": [
    "from sklearn.preprocessing import StandardScaler\n",
    "scaler = StandardScaler()\n",
    "X_scaled = scaler.fit_transform(X_train)"
   ]
  },
  {
   "cell_type": "code",
   "execution_count": 10,
   "id": "32c60ce2",
   "metadata": {},
   "outputs": [],
   "source": [
    "from sklearn import decomposition\n",
    "from sklearn.decomposition import PCA"
   ]
  },
  {
   "cell_type": "code",
   "execution_count": 11,
   "id": "03160afd",
   "metadata": {},
   "outputs": [],
   "source": [
    "pca = decomposition.PCA().fit(X_scaled)"
   ]
  },
  {
   "cell_type": "code",
   "execution_count": 12,
   "id": "b0560983",
   "metadata": {},
   "outputs": [],
   "source": [
    "pca = decomposition.PCA(n_components=4) \n",
    "X_pca = pca.fit_transform(X_train)"
   ]
  },
  {
   "cell_type": "code",
   "execution_count": null,
   "id": "0d78bfa3",
   "metadata": {},
   "outputs": [],
   "source": [
    "# from sklearn.feature_extraction.text import TfidfVectorizer\n",
    "# import re\n",
    "\n",
    "# # Define a custom token pattern that excludes numbers\n",
    "# token_pattern =  r'\\b[^\\d\\W]+\\b'\n",
    "\n",
    "# # Create the TF-IDF vectorizer with the custom token pattern\n",
    "# vectorizer = TfidfVectorizer(stop_words='english', token_pattern=token_pattern)\n",
    "# X_names_sparse = vectorizer.fit_transform(track_names)\n",
    "\n",
    "# # Get the modified feature names without numbers\n",
    "# feature_names = vectorizer.get_feature_names_out()\n",
    "# feature_names_without_numbers = [re.sub(r'\\d', '', name) for name in feature_names]\n",
    "\n",
    "# print(feature_names_without_numbers)\n",
    "# print(X_names_sparse.shape)"
   ]
  },
  {
   "cell_type": "code",
   "execution_count": 13,
   "id": "2ac60e05",
   "metadata": {},
   "outputs": [
    {
     "name": "stdout",
     "output_type": "stream",
     "text": [
      "['act', 'adaggio', 'adagio', 'adoration', 'agitato', 'alla', 'allegramente', 'allegretto', 'allegro', 'anastasio', 'andante', 'andantino', 'anima', 'animaux', 'animé', 'aria', 'assai', 'augurs', 'bach', 'berlin', 'blues', 'bolejaca', 'brandenburg', 'breve', 'buxwv', 'bwv', 'cantabile', 'caprices', 'carnaval', 'cello', 'charleston', 'chases', 'concertante', 'concerto', 'coppie', 'corale', 'crucifixion', 'dance', 'dances', 'dawnym', 'death', 'debussy', 'dies', 'digital', 'diletto', 'dolorosa', 'domine', 'dorico', 'dream', 'dudziarz', 'dumka', 'dvořák', 'décidé', 'earth', 'elegy', 'espagne', 'exaudi', 'excerpt', 'fantastique', 'farewell', 'filiae', 'flat', 'flees', 'flute', 'folies', 'forme', 'françaix', 'fuocho', 'fuoco', 'fête', 'für', 'girls', 'giuoco', 'giustino', 'giusto', 'grasse', 'grazioso', 'grosso', 'hands', 'harnasie', 'harp', 'harpsichord', 'humoresques', 'hunt', 'igor', 'incoronazione', 'intrada', 'introduction', 'introduzione', 'irae', 'istesso', 'jerusalem', 'jesu', 'konzert', 'larghetto', 'largo', 'lento', 'live', 'livre', 'maestae', 'maestoso', 'maiden', 'major', 'mandarin', 'mater', 'matka', 'mazurkas', 'meam', 'membra', 'minor', 'mio', 'miraculous', 'miro', 'moderato', 'moldau', 'molto', 'monteverdi', 'moonlight', 'morceaux', 'moto', 'movement', 'mundi', 'musikalisches', 'ménétrier', 'nerone', 'night', 'nocturnes', 'nostri', 'nuages', 'obertass', 'old', 'opfer', 'orationem', 'orawa', 'orchester', 'orchestra', 'orchestre', 'orfeo', 'ostinato', 'paganini', 'passacaglia', 'peasant', 'pedes', 'petrouchka', 'philharmonie', 'piano', 'pianos', 'pieces', 'pizzicato', 'pièces', 'poco', 'polonaise', 'polovtsian', 'poppea', 'populaire', 'possente', 'poulenc', 'praeludium', 'prestissimo', 'presto', 'prince', 'printemps', 'prokofiev', 'préludes', 'psalms', 'published', 'quartet', 'quartetto', 'quintet', 'remaster', 'remastered', 'requiem', 'revised', 'ricercare', 'rondo', 'rosamunde', 'sabbath', 'sacre', 'salutare', 'salve', 'scherzando', 'scherzo', 'schubert', 'second', 'semaine', 'semplice', 'sempre', 'sharp', 'sileant', 'sinfonia', 'slavonic', 'solo', 'sonata', 'sonatina', 'sonatine', 'sostenuto', 'source', 'spiccato', 'spirito', 'spiritoso', 'spirto', 'spring', 'stabat', 'stala', 'string', 'style', 'stylu', 'symphonie', 'symphony', 'tempo', 'thème', 'toccata', 'transatlantique', 'trio', 'trois', 'troppo', 'très', 'utwory', 'variatio', 'variation', 'variations', 'vedrò', 'version', 'viole', 'violin', 'violine', 'violon', 'vivace', 'vivaldi', 'vivo', 'vlast', 'volières', 'waltzes', 'wedding', 'wildly', 'woods', 'young', 'zephyri', 'élégiaque']\n",
      "(98, 239)\n"
     ]
    }
   ],
   "source": [
    "from sklearn.feature_extraction import text\n",
    "from sklearn.feature_extraction.text import TfidfVectorizer\n",
    "import re\n",
    "token_pattern =  r'\\b[^\\d\\W]+\\b'\n",
    "\n",
    "custom_stop_words = ['ad', 'b', 'cd', 'c', 'du', 'della', 'des', 'di', 'd', 'e', 'en', 'et', 'f', 'fp', 'g', \n",
    "                     'h', 'ib', 'ii', 'iii', 'il', 'iv', 'js', 'kv', 'l', 'la', 'le', 'les', 'm', 'ma', 'ms', \n",
    "                     'má', 'n', 'non', 'nr', 'op', 'pour', 'pur', 'r', 'rv', 'sv', 'sz', 'th', 'ti', 'und', 'v', 'w', 'à']\n",
    "\n",
    "my_stop_words = text.ENGLISH_STOP_WORDS.union(custom_stop_words)\n",
    "\n",
    "vectorizer = TfidfVectorizer(stop_words=my_stop_words, token_pattern=token_pattern)\n",
    "X_names_sparse = vectorizer.fit_transform(track_names)\n",
    "\n",
    "feature_names = vectorizer.get_feature_names_out()\n",
    "feature_names_without_numbers = [re.sub(r'\\d', '', name) for name in feature_names]\n",
    "\n",
    "print(feature_names_without_numbers)\n",
    "print(X_names_sparse.shape)"
   ]
  },
  {
   "cell_type": "code",
   "execution_count": 14,
   "id": "75457960",
   "metadata": {},
   "outputs": [
    {
     "name": "stdout",
     "output_type": "stream",
     "text": [
      "{'piano': 145, 'quintet': 168, 'presto': 159, 'string': 204, 'quartet': 166, 'flat': 61, 'minor': 109, 'elegy': 54, 'adagio': 2, 'allegro': 8, 'molto': 115, 'allegretto': 7, 'largo': 95, 'concerto': 33, 'harpsichord': 81, 'orchestra': 135, 'movement': 120, 'violin': 224, 'vivace': 227, 'assai': 16, 'konzert': 93, 'für': 70, 'violine': 225, 'orchester': 134, 'violon': 226, 'orchestre': 136, 'major': 102, 'maestoso': 100, 'waltzes': 232, 'larghetto': 94, 'spiritoso': 199, 'debussy': 41, 'sonata': 192, 'vivo': 229, 'nocturnes': 126, 'nuages': 128, 'grosso': 77, 'spiccato': 197, 'live': 97, 'mazurkas': 106, 'digital': 43, 'remaster': 169, 'obertass': 129, 'ménétrier': 123, 'dudziarz': 49, 'carnaval': 28, 'animaux': 13, 'volières': 231, 'allegramente': 6, 'stabat': 202, 'mater': 104, 'introduzione': 88, 'andante': 10, 'troppo': 215, 'giuoco': 72, 'coppie': 34, 'scherzando': 180, 'cello': 29, 'membra': 108, 'jesu': 92, 'nostri': 127, 'buxwv': 24, 'pedes': 142, 'salve': 179, 'mundi': 121, 'salutare': 178, 'dolorosa': 45, 'stala': 203, 'matka': 105, 'bolejaca': 21, 'passacaglia': 140, 'solo': 191, 'symphony': 208, 'psalms': 164, 'exaudi': 56, 'orationem': 132, 'meam': 107, 'domine': 46, 'utwory': 217, 'dawnym': 39, 'stylu': 206, 'pieces': 147, 'old': 130, 'style': 205, 'harnasie': 79, 'toccata': 211, 'animé': 14, 'très': 216, 'décidé': 52, 'dvořák': 51, 'agitato': 4, 'vivaldi': 228, 'giustino': 73, 'act': 0, 'vedrò': 221, 'mio': 110, 'diletto': 44, 'anastasio': 9, 'orawa': 133, 'slavonic': 190, 'dance': 37, 'hands': 78, 'dumka': 50, 'grazioso': 76, 'moldau': 114, 'vlast': 230, 'source': 196, 'second': 183, 'woods': 235, 'hunt': 83, 'istesso': 90, 'tempo': 209, 'moderato': 113, 'peasant': 141, 'wedding': 233, 'moonlight': 117, 'excerpt': 57, 'françaix': 66, 'sonatina': 193, 'rondo': 174, 'monteverdi': 116, 'incoronazione': 85, 'poppea': 153, 'miro': 112, 'nerone': 124, 'orfeo': 137, 'possente': 155, 'spirto': 200, 'petrouchka': 143, 'fête': 69, 'populaire': 154, 'semaine': 184, 'grasse': 75, 'miraculous': 111, 'mandarin': 103, 'flees': 62, 'chases': 31, 'wildly': 234, 'sempre': 186, 'morceaux': 118, 'polonaise': 151, 'élégiaque': 238, 'filiae': 60, 'maestae': 99, 'jerusalem': 91, 'sileant': 188, 'zephyri': 237, 'paganini': 139, 'caprices': 27, 'sharp': 187, 'farewell': 59, 'bach': 18, 'brandenburg': 22, 'bwv': 25, 'flute': 63, 'harp': 80, 'adaggio': 1, 'scherzo': 181, 'fuocho': 67, 'symphonie': 207, 'fantastique': 58, 'dream': 48, 'sabbath': 176, 'night': 125, 'prokofiev': 162, 'andantino': 11, 'sinfonia': 189, 'concertante': 32, 'folies': 64, 'espagne': 55, 'livre': 98, 'pièces': 149, 'viole': 223, 'variations': 220, 'thème': 210, 'variation': 219, 'sacre': 177, 'printemps': 161, 'revised': 172, 'version': 222, 'published': 165, 'adoration': 3, 'earth': 53, 'introduction': 87, 'augurs': 17, 'spring': 201, 'dances': 38, 'young': 236, 'girls': 71, 'musikalisches': 122, 'opfer': 131, 'ricercare': 173, 'crucifixion': 36, 'praeludium': 157, 'aria': 15, 'variatio': 218, 'schubert': 182, 'death': 40, 'maiden': 101, 'moto': 119, 'trio': 213, 'rosamunde': 175, 'poulenc': 156, 'pianos': 146, 'spirito': 198, 'philharmonie': 144, 'berlin': 19, 'semplice': 185, 'prestissimo': 158, 'fuoco': 68, 'sostenuto': 195, 'anima': 12, 'pizzicato': 148, 'ostinato': 138, 'giusto': 74, 'intrada': 86, 'corale': 35, 'humoresques': 82, 'poco': 150, 'requiem': 171, 'dies': 42, 'irae': 89, 'sonatine': 194, 'transatlantique': 212, 'charleston': 30, 'trois': 214, 'préludes': 163, 'forme': 65, 'blues': 20, 'lento': 96, 'cantabile': 26, 'prince': 160, 'igor': 84, 'polovtsian': 152, 'remastered': 170, 'alla': 5, 'breve': 23, 'quartetto': 167, 'dorico': 47}\n"
     ]
    }
   ],
   "source": [
    "idf_values = dict(zip(vectorizer.get_feature_names_out(), vectorizer.idf_))\n",
    "\n",
    "# printing the tfidf vectors\n",
    "#print(X_names_sparse)\n",
    "\n",
    "# printing the vocabulary\n",
    "print(vectorizer.vocabulary_)\n",
    "\n",
    "#for word, score in idf_values.items():\n",
    "#    print(word, score)"
   ]
  },
  {
   "cell_type": "markdown",
   "id": "12e3374a",
   "metadata": {},
   "source": [
    "Sort the idf_values dictionary by score in descending order\n"
   ]
  },
  {
   "cell_type": "code",
   "execution_count": 15,
   "id": "54bc60e7",
   "metadata": {},
   "outputs": [
    {
     "name": "stdout",
     "output_type": "stream",
     "text": [
      "adaggio 4.90\n",
      "agitato 4.90\n",
      "alla 4.90\n",
      "allegramente 4.90\n",
      "anastasio 4.90\n",
      "anima 4.90\n",
      "animaux 4.90\n",
      "animé 4.90\n",
      "aria 4.90\n",
      "augurs 4.90\n",
      "blues 4.90\n",
      "bolejaca 4.90\n",
      "breve 4.90\n",
      "buxwv 4.90\n",
      "cantabile 4.90\n",
      "caprices 4.90\n",
      "carnaval 4.90\n",
      "charleston 4.90\n",
      "chases 4.90\n",
      "concertante 4.90\n",
      "coppie 4.90\n",
      "corale 4.90\n",
      "dance 4.90\n",
      "dies 4.90\n",
      "digital 4.90\n",
      "diletto 4.90\n",
      "domine 4.90\n",
      "dorico 4.90\n",
      "dream 4.90\n",
      "dudziarz 4.90\n",
      "dumka 4.90\n",
      "dvořák 4.90\n",
      "décidé 4.90\n",
      "elegy 4.90\n",
      "exaudi 4.90\n",
      "excerpt 4.90\n",
      "fantastique 4.90\n",
      "farewell 4.90\n",
      "filiae 4.90\n",
      "flees 4.90\n",
      "flute 4.90\n",
      "forme 4.90\n",
      "françaix 4.90\n",
      "fuocho 4.90\n",
      "fuoco 4.90\n",
      "fête 4.90\n",
      "für 4.90\n",
      "girls 4.90\n",
      "giuoco 4.90\n",
      "giustino 4.90\n",
      "giusto 4.90\n",
      "grasse 4.90\n",
      "grazioso 4.90\n",
      "hands 4.90\n",
      "harnasie 4.90\n",
      "harp 4.90\n",
      "harpsichord 4.90\n",
      "hunt 4.90\n",
      "igor 4.90\n",
      "incoronazione 4.90\n",
      "intrada 4.90\n",
      "introduction 4.90\n",
      "introduzione 4.90\n",
      "irae 4.90\n",
      "istesso 4.90\n",
      "jerusalem 4.90\n",
      "jesu 4.90\n",
      "konzert 4.90\n",
      "lento 4.90\n",
      "livre 4.90\n",
      "maestae 4.90\n",
      "mandarin 4.90\n",
      "matka 4.90\n",
      "meam 4.90\n",
      "membra 4.90\n",
      "mio 4.90\n",
      "miraculous 4.90\n",
      "miro 4.90\n",
      "moldau 4.90\n",
      "monteverdi 4.90\n",
      "moonlight 4.90\n",
      "morceaux 4.90\n",
      "moto 4.90\n",
      "mundi 4.90\n",
      "musikalisches 4.90\n",
      "ménétrier 4.90\n",
      "nerone 4.90\n",
      "night 4.90\n",
      "nostri 4.90\n",
      "nuages 4.90\n",
      "obertass 4.90\n",
      "opfer 4.90\n",
      "orationem 4.90\n",
      "orawa 4.90\n",
      "orchester 4.90\n",
      "orchestre 4.90\n",
      "orfeo 4.90\n",
      "ostinato 4.90\n",
      "paganini 4.90\n",
      "peasant 4.90\n",
      "pedes 4.90\n",
      "petrouchka 4.90\n",
      "pianos 4.90\n",
      "pizzicato 4.90\n",
      "pièces 4.90\n",
      "poco 4.90\n",
      "polonaise 4.90\n",
      "polovtsian 4.90\n",
      "poppea 4.90\n",
      "populaire 4.90\n",
      "possente 4.90\n",
      "poulenc 4.90\n",
      "praeludium 4.90\n",
      "prestissimo 4.90\n",
      "presto 4.90\n",
      "prince 4.90\n",
      "préludes 4.90\n",
      "psalms 4.90\n",
      "quartetto 4.90\n",
      "quintet 4.90\n",
      "remaster 4.90\n",
      "remastered 4.90\n",
      "requiem 4.90\n",
      "ricercare 4.90\n",
      "rondo 4.90\n",
      "rosamunde 4.90\n",
      "sabbath 4.90\n",
      "salutare 4.90\n",
      "salve 4.90\n",
      "scherzando 4.90\n",
      "second 4.90\n",
      "semaine 4.90\n",
      "semplice 4.90\n",
      "sempre 4.90\n",
      "sharp 4.90\n",
      "sileant 4.90\n",
      "sinfonia 4.90\n",
      "slavonic 4.90\n",
      "solo 4.90\n",
      "sonatina 4.90\n",
      "sonatine 4.90\n",
      "sostenuto 4.90\n",
      "source 4.90\n",
      "spiccato 4.90\n",
      "spirito 4.90\n",
      "spiritoso 4.90\n",
      "spirto 4.90\n",
      "spring 4.90\n",
      "stala 4.90\n",
      "symphonie 4.90\n",
      "thème 4.90\n",
      "transatlantique 4.90\n",
      "trio 4.90\n",
      "trois 4.90\n",
      "très 4.90\n",
      "variatio 4.90\n",
      "variation 4.90\n",
      "variations 4.90\n",
      "vedrò 4.90\n",
      "viole 4.90\n",
      "violine 4.90\n",
      "violon 4.90\n",
      "vivo 4.90\n",
      "vlast 4.90\n",
      "volières 4.90\n",
      "waltzes 4.90\n",
      "wedding 4.90\n",
      "wildly 4.90\n",
      "woods 4.90\n",
      "young 4.90\n",
      "zephyri 4.90\n",
      "élégiaque 4.90\n",
      "act 4.50\n",
      "adagio 4.50\n",
      "adoration 4.50\n",
      "andantino 4.50\n",
      "assai 4.50\n",
      "cello 4.50\n",
      "crucifixion 4.50\n",
      "dances 4.50\n",
      "debussy 4.50\n",
      "dolorosa 4.50\n",
      "earth 4.50\n",
      "grosso 4.50\n",
      "humoresques 4.50\n",
      "larghetto 4.50\n",
      "maestoso 4.50\n",
      "mazurkas 4.50\n",
      "nocturnes 4.50\n",
      "passacaglia 4.50\n",
      "printemps 4.50\n",
      "published 4.50\n",
      "revised 4.50\n",
      "sacre 4.50\n",
      "tempo 4.50\n",
      "toccata 4.50\n",
      "version 4.50\n",
      "vivaldi 4.50\n",
      "berlin 4.21\n",
      "dawnym 4.21\n",
      "death 4.21\n",
      "espagne 4.21\n",
      "folies 4.21\n",
      "largo 4.21\n",
      "maiden 4.21\n",
      "mater 4.21\n",
      "old 4.21\n",
      "philharmonie 4.21\n",
      "pieces 4.21\n",
      "prokofiev 4.21\n",
      "stabat 4.21\n",
      "style 4.21\n",
      "stylu 4.21\n",
      "utwory 4.21\n",
      "bach 3.99\n",
      "brandenburg 3.99\n",
      "live 3.99\n",
      "moderato 3.99\n",
      "molto 3.99\n",
      "scherzo 3.99\n",
      "schubert 3.99\n",
      "sonata 3.99\n",
      "allegretto 3.80\n",
      "bwv 3.80\n",
      "flat 3.80\n",
      "movement 3.80\n",
      "symphony 3.80\n",
      "troppo 3.80\n",
      "andante 3.65\n",
      "violin 3.65\n",
      "vivace 3.52\n",
      "orchestra 3.29\n",
      "major 3.20\n",
      "piano 3.20\n",
      "quartet 3.20\n",
      "string 3.20\n",
      "allegro 2.23\n",
      "concerto 2.13\n",
      "minor 1.93\n"
     ]
    }
   ],
   "source": [
    "idf_values = dict(zip(vectorizer.get_feature_names_out(), vectorizer.idf_))\n",
    "sorted_idf_values = sorted(idf_values.items(), key=lambda x: x[1], reverse=True)\n",
    "for word, score in sorted_idf_values:\n",
    "    print(word, format(score, \".2f\"))"
   ]
  },
  {
   "cell_type": "code",
   "execution_count": null,
   "id": "6c565cfe",
   "metadata": {},
   "outputs": [],
   "source": [
    "# # Sort the idf_values dictionary by score in descending order\n",
    "# sorted_idf_values = sorted(idf_values.items(), key=lambda x: x[1], reverse=True)\n",
    "\n",
    "# # Set the number of columns\n",
    "# num_columns = 3\n",
    "\n",
    "# # Calculate the number of rows needed\n",
    "# num_rows = len(sorted_idf_values) // num_columns + (len(sorted_idf_values) % num_columns > 0)\n",
    "\n",
    "# # Print the results in three columns\n",
    "# for i in range(num_rows):\n",
    "#     for j in range(num_columns):\n",
    "#         index = i + j * num_rows\n",
    "#         if index < len(sorted_idf_values):\n",
    "#             word, score = sorted_idf_values[index]\n",
    "#             print(f\"{word:20}{score:.2f}\", end=\"\\t\")\n",
    "#     print()"
   ]
  },
  {
   "cell_type": "code",
   "execution_count": 16,
   "id": "bf0a242a",
   "metadata": {},
   "outputs": [
    {
     "name": "stdout",
     "output_type": "stream",
     "text": [
      "IDF Score: 4.90\n",
      "adaggio             \n",
      "agitato             \n",
      "alla                \n",
      "allegramente        \n",
      "anastasio           \n",
      "anima               \n",
      "animaux             \n",
      "animé               \n",
      "aria                \n",
      "augurs              \n",
      "blues               \n",
      "bolejaca            \n",
      "breve               \n",
      "buxwv               \n",
      "cantabile           \n",
      "caprices            \n",
      "carnaval            \n",
      "charleston          \n",
      "chases              \n",
      "concertante         \n",
      "coppie              \n",
      "corale              \n",
      "dance               \n",
      "dies                \n",
      "digital             \n",
      "diletto             \n",
      "domine              \n",
      "dorico              \n",
      "dream               \n",
      "dudziarz            \n",
      "dumka               \n",
      "dvořák              \n",
      "décidé              \n",
      "elegy               \n",
      "exaudi              \n",
      "excerpt             \n",
      "fantastique         \n",
      "farewell            \n",
      "filiae              \n",
      "flees               \n",
      "flute               \n",
      "forme               \n",
      "françaix            \n",
      "fuocho              \n",
      "fuoco               \n",
      "fête                \n",
      "für                 \n",
      "girls               \n",
      "giuoco              \n",
      "giustino            \n",
      "giusto              \n",
      "grasse              \n",
      "grazioso            \n",
      "hands               \n",
      "harnasie            \n",
      "harp                \n",
      "harpsichord         \n",
      "hunt                \n",
      "igor                \n",
      "incoronazione       \n",
      "intrada             \n",
      "introduction        \n",
      "introduzione        \n",
      "irae                \n",
      "istesso             \n",
      "jerusalem           \n",
      "jesu                \n",
      "konzert             \n",
      "lento               \n",
      "livre               \n",
      "maestae             \n",
      "mandarin            \n",
      "matka               \n",
      "meam                \n",
      "membra              \n",
      "mio                 \n",
      "miraculous          \n",
      "miro                \n",
      "moldau              \n",
      "monteverdi          \n",
      "moonlight           \n",
      "morceaux            \n",
      "moto                \n",
      "mundi               \n",
      "musikalisches       \n",
      "ménétrier           \n",
      "nerone              \n",
      "night               \n",
      "nostri              \n",
      "nuages              \n",
      "obertass            \n",
      "opfer               \n",
      "orationem           \n",
      "orawa               \n",
      "orchester           \n",
      "orchestre           \n",
      "orfeo               \n",
      "ostinato            \n",
      "paganini            \n",
      "peasant             \n",
      "pedes               \n",
      "petrouchka          \n",
      "pianos              \n",
      "pizzicato           \n",
      "pièces              \n",
      "poco                \n",
      "polonaise           \n",
      "polovtsian          \n",
      "poppea              \n",
      "populaire           \n",
      "possente            \n",
      "poulenc             \n",
      "praeludium          \n",
      "prestissimo         \n",
      "presto              \n",
      "prince              \n",
      "préludes            \n",
      "psalms              \n",
      "quartetto           \n",
      "quintet             \n",
      "remaster            \n",
      "remastered          \n",
      "requiem             \n",
      "ricercare           \n",
      "rondo               \n",
      "rosamunde           \n",
      "sabbath             \n",
      "salutare            \n",
      "salve               \n",
      "scherzando          \n",
      "second              \n",
      "semaine             \n",
      "semplice            \n",
      "sempre              \n",
      "sharp               \n",
      "sileant             \n",
      "sinfonia            \n",
      "slavonic            \n",
      "solo                \n",
      "sonatina            \n",
      "sonatine            \n",
      "sostenuto           \n",
      "source              \n",
      "spiccato            \n",
      "spirito             \n",
      "spiritoso           \n",
      "spirto              \n",
      "spring              \n",
      "stala               \n",
      "symphonie           \n",
      "thème               \n",
      "transatlantique     \n",
      "trio                \n",
      "trois               \n",
      "très                \n",
      "variatio            \n",
      "variation           \n",
      "variations          \n",
      "vedrò               \n",
      "viole               \n",
      "violine             \n",
      "violon              \n",
      "vivo                \n",
      "vlast               \n",
      "volières            \n",
      "waltzes             \n",
      "wedding             \n",
      "wildly              \n",
      "woods               \n",
      "young               \n",
      "zephyri             \n",
      "élégiaque           \n",
      "\n",
      "IDF Score: 4.50\n",
      "act                 \n",
      "adagio              \n",
      "adoration           \n",
      "andantino           \n",
      "assai               \n",
      "cello               \n",
      "crucifixion         \n",
      "dances              \n",
      "debussy             \n",
      "dolorosa            \n",
      "earth               \n",
      "grosso              \n",
      "humoresques         \n",
      "larghetto           \n",
      "maestoso            \n",
      "mazurkas            \n",
      "nocturnes           \n",
      "passacaglia         \n",
      "printemps           \n",
      "published           \n",
      "revised             \n",
      "sacre               \n",
      "tempo               \n",
      "toccata             \n",
      "version             \n",
      "vivaldi             \n",
      "\n",
      "IDF Score: 4.21\n",
      "berlin              \n",
      "dawnym              \n",
      "death               \n",
      "espagne             \n",
      "folies              \n",
      "largo               \n",
      "maiden              \n",
      "mater               \n",
      "old                 \n",
      "philharmonie        \n",
      "pieces              \n",
      "prokofiev           \n",
      "stabat              \n",
      "style               \n",
      "stylu               \n",
      "utwory              \n",
      "\n",
      "IDF Score: 3.99\n",
      "bach                \n",
      "brandenburg         \n",
      "live                \n",
      "moderato            \n",
      "molto               \n",
      "scherzo             \n",
      "schubert            \n",
      "sonata              \n",
      "\n",
      "IDF Score: 3.80\n",
      "allegretto          \n",
      "bwv                 \n",
      "flat                \n",
      "movement            \n",
      "symphony            \n",
      "troppo              \n",
      "\n",
      "IDF Score: 3.65\n",
      "andante             \n",
      "violin              \n",
      "\n",
      "IDF Score: 3.52\n",
      "vivace              \n",
      "\n",
      "IDF Score: 3.29\n",
      "orchestra           \n",
      "\n",
      "IDF Score: 3.20\n",
      "major               \n",
      "piano               \n",
      "quartet             \n",
      "string              \n",
      "\n",
      "IDF Score: 2.23\n",
      "allegro             \n",
      "\n",
      "IDF Score: 2.13\n",
      "concerto            \n",
      "\n",
      "IDF Score: 1.93\n",
      "minor               \n",
      "\n"
     ]
    }
   ],
   "source": [
    "from itertools import groupby\n",
    "\n",
    "# Sort the idf_values dictionary by score in descending order\n",
    "sorted_idf_values = sorted(idf_values.items(), key=lambda x: x[1], reverse=True)\n",
    "\n",
    "# Group the sorted values by score\n",
    "grouped_values = groupby(sorted_idf_values, key=lambda x: x[1])\n",
    "\n",
    "# Print the results grouped by score\n",
    "for score, group in grouped_values:\n",
    "    print(f\"IDF Score: {score:.2f}\")\n",
    "    for word, score in group:\n",
    "        print(f\"{word:20}\")\n",
    "    print()\n"
   ]
  },
  {
   "cell_type": "code",
   "execution_count": null,
   "id": "ab4980ce",
   "metadata": {},
   "outputs": [],
   "source": [
    "# # Sort the idf_values dictionary by score in descending order\n",
    "# sorted_idf_values = sorted(idf_values.items(), key=lambda x: x[1], reverse=True)\n",
    "\n",
    "# # Print the top 25 values\n",
    "# top_count = 25\n",
    "# count = 0\n",
    "\n",
    "# for word, score in sorted_idf_values:\n",
    "#     print(word, score)\n",
    "#     count += 1\n",
    "\n",
    "#     if count >= top_count:\n",
    "#         break"
   ]
  },
  {
   "cell_type": "code",
   "execution_count": null,
   "id": "46959733",
   "metadata": {},
   "outputs": [],
   "source": [
    "# import matplotlib.pyplot as plt\n",
    "# import heapq\n",
    "\n",
    "# # Extract the 10 most frequent words from the vocabulary dictionary\n",
    "# top_words = heapq.nlargest(30, vectorizer.vocabulary_, key=vectorizer.vocabulary_.get)\n",
    "# top_counts = [vectorizer.vocabulary_[word] for word in top_words]\n",
    "\n",
    "# # Plot the top 10 words\n",
    "# plt.figure(figsize=(10, 6))\n",
    "# plt.bar(top_words, top_counts)\n",
    "# plt.xticks(rotation='vertical')\n",
    "# plt.xlabel('Words')\n",
    "# plt.ylabel('Counts')\n",
    "# plt.title('Top 10 Most Frequent Words')\n",
    "# plt.tight_layout()\n",
    "# plt.show()"
   ]
  },
  {
   "cell_type": "code",
   "execution_count": 17,
   "id": "d2a94e48",
   "metadata": {},
   "outputs": [],
   "source": [
    "from scipy.sparse import csr_matrix, hstack\n",
    "\n",
    "X_train_last = csr_matrix(hstack([X_pca, X_names_sparse]))"
   ]
  },
  {
   "cell_type": "code",
   "execution_count": null,
   "id": "f4058fb9",
   "metadata": {},
   "outputs": [],
   "source": [
    "X_train_last"
   ]
  },
  {
   "cell_type": "code",
   "execution_count": 18,
   "id": "6eb76640",
   "metadata": {},
   "outputs": [],
   "source": [
    "from sklearn.model_selection import StratifiedKFold, GridSearchCV\n",
    "\n",
    "skf = StratifiedKFold(n_splits = 5, shuffle = True, random_state = 10) #n_splits między 2 a 5"
   ]
  },
  {
   "cell_type": "code",
   "execution_count": 19,
   "id": "9b4c926e",
   "metadata": {},
   "outputs": [
    {
     "name": "stderr",
     "output_type": "stream",
     "text": [
      "C:\\Users\\m\\anaconda3\\lib\\site-packages\\sklearn\\model_selection\\_split.py:676: UserWarning: The least populated class in y has only 1 members, which is less than n_splits=5.\n",
      "  warnings.warn(\n"
     ]
    },
    {
     "data": {
      "text/plain": [
       "({'n_neighbors': 7}, 0.12421052631578947)"
      ]
     },
     "execution_count": 19,
     "metadata": {},
     "output_type": "execute_result"
    }
   ],
   "source": [
    "from sklearn.neighbors import KNeighborsClassifier\n",
    "\n",
    "knn = KNeighborsClassifier() \n",
    "\n",
    "param_grid_knn = {'n_neighbors':[3,5,7]}\n",
    "grid_search_knn = GridSearchCV(knn, param_grid_knn, cv = skf, n_jobs = -1)\n",
    "\n",
    "grid_search_knn.fit(X_train_last,y_train)\n",
    "grid_search_knn.best_params_, grid_search_knn.best_score_"
   ]
  },
  {
   "cell_type": "code",
   "execution_count": null,
   "id": "bb239f34",
   "metadata": {},
   "outputs": [],
   "source": [
    "#.grid_scores_\n",
    "#.best_params_"
   ]
  },
  {
   "cell_type": "code",
   "execution_count": 20,
   "id": "4284b6a7",
   "metadata": {},
   "outputs": [
    {
     "name": "stderr",
     "output_type": "stream",
     "text": [
      "C:\\Users\\m\\anaconda3\\lib\\site-packages\\sklearn\\model_selection\\_split.py:676: UserWarning: The least populated class in y has only 1 members, which is less than n_splits=5.\n",
      "  warnings.warn(\n"
     ]
    },
    {
     "data": {
      "text/plain": [
       "(DecisionTreeClassifier(max_depth=5, max_features=7), 0.1926315789473684)"
      ]
     },
     "execution_count": 20,
     "metadata": {},
     "output_type": "execute_result"
    }
   ],
   "source": [
    "from sklearn.tree import DecisionTreeClassifier\n",
    "\n",
    "tree = DecisionTreeClassifier()\n",
    "\n",
    "param_grid_tree = {'max_depth':[None, 3, 5],'max_features':range(4,9)}\n",
    "grid_search_tree = GridSearchCV(tree, param_grid_tree, cv = skf, n_jobs = -1)\n",
    "\n",
    "grid_search_tree.fit(X_train_last,y_train)\n",
    "grid_search_tree.best_estimator_ , grid_search_tree.best_score_"
   ]
  },
  {
   "cell_type": "code",
   "execution_count": 21,
   "id": "36c6c499",
   "metadata": {},
   "outputs": [],
   "source": [
    "rec_tracks=[]\n",
    "\n",
    "for i in playlist_df['id'].values.tolist():\n",
    "    rec_tracks += sp.recommendations(seed_tracks=[i],limit = int(len(playlist_df)/2))['tracks'];"
   ]
  },
  {
   "cell_type": "code",
   "execution_count": 22,
   "id": "a2f6120e",
   "metadata": {},
   "outputs": [],
   "source": [
    "rec_track_ids=[]\n",
    "rec_track_names = []\n",
    "\n",
    "for i in rec_tracks:\n",
    "    rec_track_ids.append(i['id'])\n",
    "    rec_track_names.append(i['name'])"
   ]
  },
  {
   "cell_type": "code",
   "execution_count": 23,
   "id": "f516e6ae",
   "metadata": {},
   "outputs": [],
   "source": [
    "rec_features=[]\n",
    "\n",
    "for i in range(0,len(rec_track_ids)):\n",
    "    rec_audio_features = sp.audio_features(rec_track_ids[i])\n",
    "    if rec_audio_features and isinstance(rec_audio_features, list):\n",
    "        for track in rec_audio_features:\n",
    "            if track is not None:\n",
    "                rec_features.append(track)"
   ]
  },
  {
   "cell_type": "code",
   "execution_count": 29,
   "id": "5faee73f",
   "metadata": {},
   "outputs": [],
   "source": [
    "rec_track_ids = rec_track_ids[:len(rec_features)]"
   ]
  },
  {
   "cell_type": "code",
   "execution_count": 30,
   "id": "b653a530",
   "metadata": {},
   "outputs": [],
   "source": [
    "rec_playlist_df= pd.DataFrame(rec_features,index = rec_track_ids)"
   ]
  },
  {
   "cell_type": "code",
   "execution_count": 31,
   "id": "90880ebc",
   "metadata": {},
   "outputs": [],
   "source": [
    "rec_playlist_df = rec_playlist_df[[\"acousticness\", \"danceability\", \"duration_ms\", \"energy\", \"instrumentalness\",  \"key\", \"liveness\", \"loudness\", \"mode\", \"speechiness\", \"tempo\", \"valence\"]]"
   ]
  },
  {
   "cell_type": "code",
   "execution_count": 40,
   "id": "f61cdfe9",
   "metadata": {},
   "outputs": [
    {
     "data": {
      "text/plain": [
       "(4798, 4)"
      ]
     },
     "execution_count": 40,
     "metadata": {},
     "output_type": "execute_result"
    }
   ],
   "source": [
    "X_test_pca.shape"
   ]
  },
  {
   "cell_type": "code",
   "execution_count": 39,
   "id": "ff808d3f",
   "metadata": {},
   "outputs": [
    {
     "data": {
      "text/plain": [
       "(4802, 239)"
      ]
     },
     "execution_count": 39,
     "metadata": {},
     "output_type": "execute_result"
    }
   ],
   "source": [
    "X_test_names.shape"
   ]
  },
  {
   "cell_type": "code",
   "execution_count": 41,
   "id": "856cddc9",
   "metadata": {},
   "outputs": [
    {
     "name": "stdout",
     "output_type": "stream",
     "text": [
      "(4798, 239)\n"
     ]
    }
   ],
   "source": [
    "desired_shape = (4798, 239)\n",
    "X_test_names = X_test_names[:desired_shape[0], :]\n",
    "print(X_test_names.shape)"
   ]
  },
  {
   "cell_type": "code",
   "execution_count": 43,
   "id": "e7e75b64",
   "metadata": {
    "scrolled": true
   },
   "outputs": [
    {
     "name": "stderr",
     "output_type": "stream",
     "text": [
      "C:\\Users\\m\\anaconda3\\lib\\site-packages\\sklearn\\base.py:450: UserWarning: X does not have valid feature names, but PCA was fitted with feature names\n",
      "  warnings.warn(\n"
     ]
    }
   ],
   "source": [
    "grid_search_tree.best_estimator_.fit(X_train_last,y_train)\n",
    "rec_playlist_df_scaled = StandardScaler().fit_transform(rec_playlist_df)\n",
    "X_test_pca  = pca.transform(rec_playlist_df_scaled)\n",
    "X_test_names = vectorizer.transform(rec_track_names)\n",
    "X_test_last = csr_matrix(hstack([X_test_pca,X_test_names[:4798, :]]))\n",
    "y_pred_class = grid_search_tree.best_estimator_.predict(X_test_last)"
   ]
  },
  {
   "cell_type": "code",
   "execution_count": 49,
   "id": "b479d19c",
   "metadata": {},
   "outputs": [],
   "source": [
    "rec_playlist_df['ratings']=y_pred_class\n",
    "rec_playlist_df = rec_playlist_df.sort_values('ratings',ascending=False)\n",
    "rec_playlist_df = rec_playlist_df.reset_index()\n",
    "\n",
    "recs_to_add = rec_playlist_df[rec_playlist_df['ratings']>=9]['index'].values.tolist()"
   ]
  },
  {
   "cell_type": "code",
   "execution_count": 50,
   "id": "e938b915",
   "metadata": {},
   "outputs": [],
   "source": [
    "playlist_recs = sp.user_playlist_create(username, \n",
    "                                        name='Rekomendacja dla - {}'.format(sourcePlaylist['name']), public = \"True\")"
   ]
  },
  {
   "cell_type": "code",
   "execution_count": 51,
   "id": "52467610",
   "metadata": {},
   "outputs": [
    {
     "data": {
      "text/plain": [
       "{'collaborative': False,\n",
       " 'description': None,\n",
       " 'external_urls': {'spotify': 'https://open.spotify.com/playlist/7vZ6WaJkLHhshvlVKfWKbh'},\n",
       " 'followers': {'href': None, 'total': 0},\n",
       " 'href': 'https://api.spotify.com/v1/playlists/7vZ6WaJkLHhshvlVKfWKbh',\n",
       " 'id': '7vZ6WaJkLHhshvlVKfWKbh',\n",
       " 'images': [],\n",
       " 'name': \"Rekomendacje dla playlisty (4) - Muzyka 'klasyczna'\",\n",
       " 'owner': {'display_name': 'sycyska',\n",
       "  'external_urls': {'spotify': 'https://open.spotify.com/user/sycyska'},\n",
       "  'href': 'https://api.spotify.com/v1/users/sycyska',\n",
       "  'id': 'sycyska',\n",
       "  'type': 'user',\n",
       "  'uri': 'spotify:user:sycyska'},\n",
       " 'primary_color': None,\n",
       " 'public': True,\n",
       " 'snapshot_id': 'MSwwNGVlMTczZGE5ODIxMzFkZWIwMDQ3MzE4ZDY4YWE3OWUwZTU1MTMz',\n",
       " 'tracks': {'href': 'https://api.spotify.com/v1/playlists/7vZ6WaJkLHhshvlVKfWKbh/tracks',\n",
       "  'items': [],\n",
       "  'limit': 100,\n",
       "  'next': None,\n",
       "  'offset': 0,\n",
       "  'previous': None,\n",
       "  'total': 0},\n",
       " 'type': 'playlist',\n",
       " 'uri': 'spotify:playlist:7vZ6WaJkLHhshvlVKfWKbh'}"
      ]
     },
     "execution_count": 51,
     "metadata": {},
     "output_type": "execute_result"
    }
   ],
   "source": [
    "playlist_recs"
   ]
  },
  {
   "cell_type": "code",
   "execution_count": 52,
   "id": "804028d1",
   "metadata": {},
   "outputs": [
    {
     "data": {
      "text/plain": [
       "63"
      ]
     },
     "execution_count": 52,
     "metadata": {},
     "output_type": "execute_result"
    }
   ],
   "source": [
    "len(recs_to_add)"
   ]
  },
  {
   "cell_type": "code",
   "execution_count": 53,
   "id": "32844ad0",
   "metadata": {},
   "outputs": [
    {
     "name": "stdout",
     "output_type": "stream",
     "text": [
      "['2MHhMGWPFEUwFG1nq7AUKV', '4d8dfCSu7IAZliz5HHmID9', '6C19AyBQ5UBVAjI8vJPCoB', '7EnJx50p9hiRJPioulDDNT', '5NQ41wfi4Pykv4eDTlAoIs', '7k8R3AMbEl1XHr1tIA7piW', '4o8eGxtEm4WqR39jI3Gv4e', '58axSn4UnJEs8bPnjg6uhj', '6NvDGoUHM01o1FpFP7n7d1', '50yIjigJPcVQQxrHHeai4H', '7icQa77UHrHvixJmH4GHpa', '6iDYbSfwz8l0Ytdwt8GJCi', '331mf3t4dcMwZHePKgIogw', '6vkgZZtGxvDOcq8YTDcHK4', '3sUu2gUOlWCKpYBf915zXh', '44sW7syheAf1ohNarbaGNT', '1o7fXk0oEYAb894l4BZB4z', '1wWClnS2X2XEB9XTcIuwCo', '3Ea3XgueUU5KMvbkOIAJnM', '5zgpQyDcci039XG835AS7v', '5BAqetbkm3o9dej4YkEEtH', '6UdfIeqAWn1COfABTAmzPs', '6JSJfhvU7uI2kO8JLrxyP6', '4RvUVDyZVoKPp38lYWbol0', '4Xceww9qyPB6MwXngD2Ph6', '6hp8pcQMhM7uKdF44LABoS', '3ATGcuI7wpvCgC8mfbVhtX', '5e6wObQv186mBfya8hsz42', '0EfFIQEkLzDFeC7wTC4Pbk', '62BQmHEIHw9fBqB4jB7Jvk', '3LGN5MVdRNRghhxRnlt9b4', '1fPtHyixH7IoF39oCQ4Tqe', '4Zzya7zxoj6nwJqUW1YVgv', '2RDvNrUqArXEXVl9Hxod3n', '1k8q0uKc3m9uX35XgHhLGI', '6ZgBPqiowNI40FaLezqG9H', '3Hwfy3n0PMg8QDpjLtRjKZ', '4ksxLnn1ymLGRKnwhba45Y', '0PiKaKQ6gtovR4DtVg8aNn', '34YDtSglXuamtWpyQiISmA', '4663tHEGeGMvo9gr6VtTd2', '5AVUsyKKPhYJItIVeEqw2E', '5ZUachQ574VccyTQL2MXRR', '6V738bfZRlvadmC7GdTw9x', '0oo0S7irGDedjjQU67YXCR', '4ObQ0m7VUtrgdEwpFeCKua', '5jOsrEhMayDdME9K57KQFo', '70p8XG5Xgjk7OXnt3R2gIb', '24cgBBhZD1cWekUqaYuqTB', '6LqtXBCcDe56Ywu9lIr3Xq', '42XeeIvBNliWPgXCNsVtbv', '1A2mSn08hUYVuj58rYQSH8', '7bKcZOTl8BdX6BgYLTkDPF', '4RkJupaGixobFIDxfAeXht', '7q2DFpZCRf0JzJsYU1DLRK', '5K2swrSn3N94q5XAfUSoXR', '18QVbIw5S0MJHGWF2qLX75', '7IHEJdJhju1F2rhIiwgawx', '1A0ngcs5PCENSxkr0EhSlU', '24kzMmQbeEPK4vdRPoA4ep', '2JNI6cFJaLXBBg4J9h1U9y', '4jp6jtjYq13IGRtSuvehzy', '5N66DdC8iiowzoR6CDrAii']\n"
     ]
    }
   ],
   "source": [
    "batch_size = 100\n",
    "rest =  0 if len(recs_to_add) % batch_size == 0  else 1\n",
    "batches = (len(recs_to_add) // batch_size) + rest\n",
    "\n",
    "for i in range(0, batches):\n",
    "    print(recs_to_add[i*batch_size : ((i+1)*batch_size)])\n",
    "    sp.user_playlist_add_tracks(username,playlist_recs['id'],recs_to_add[i*batch_size : ((i+1)*batch_size)]);\n",
    "#sp.user_playlist_add_tracks(username,playlist_recs['id'],recs_to_add);"
   ]
  }
 ],
 "metadata": {
  "kernelspec": {
   "display_name": "Python 3 (ipykernel)",
   "language": "python",
   "name": "python3"
  },
  "language_info": {
   "codemirror_mode": {
    "name": "ipython",
    "version": 3
   },
   "file_extension": ".py",
   "mimetype": "text/x-python",
   "name": "python",
   "nbconvert_exporter": "python",
   "pygments_lexer": "ipython3",
   "version": "3.9.12"
  }
 },
 "nbformat": 4,
 "nbformat_minor": 5
}
